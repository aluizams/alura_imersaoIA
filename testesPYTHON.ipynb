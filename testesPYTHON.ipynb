{
  "nbformat": 4,
  "nbformat_minor": 0,
  "metadata": {
    "colab": {
      "provenance": [],
      "authorship_tag": "ABX9TyO3Hl65lO/YGRrWvifuOlkg",
      "include_colab_link": true
    },
    "kernelspec": {
      "name": "python3",
      "display_name": "Python 3"
    },
    "language_info": {
      "name": "python"
    }
  },
  "cells": [
    {
      "cell_type": "markdown",
      "metadata": {
        "id": "view-in-github",
        "colab_type": "text"
      },
      "source": [
        "<a href=\"https://colab.research.google.com/github/aluizams/alura_imersaoIA/blob/main/testesPYTHON.ipynb\" target=\"_parent\"><img src=\"https://colab.research.google.com/assets/colab-badge.svg\" alt=\"Open In Colab\"/></a>"
      ]
    },
    {
      "cell_type": "code",
      "execution_count": 7,
      "metadata": {
        "colab": {
          "base_uri": "https://localhost:8080/"
        },
        "id": "VxcEVupY054c",
        "outputId": "238dfbca-aed2-41db-c02a-4beb3366d4a5"
      },
      "outputs": [
        {
          "output_type": "execute_result",
          "data": {
            "text/plain": [
              "43"
            ]
          },
          "metadata": {},
          "execution_count": 7
        }
      ],
      "source": [
        "#trazendo a biblioteca capaz de realizar requisições\n",
        "import requests\n",
        "\n",
        "#uma variavel url que armazena o endereço com as info que desejo buscar\n",
        "url = \"https://raw.githubusercontent.com/guilhermeonrails/api-imersao-ia/main/words.json\"\n",
        "#faço a requisição e armazeno na variavel resposta\n",
        "resposta = requests.get(url)\n",
        "#transforma a resposta em JSON\n",
        "data = resposta.json()\n",
        "#exibe as linhas\n",
        "len(data)\n",
        "#exibe as infos\n",
        "print(data)"
      ]
    },
    {
      "cell_type": "code",
      "source": [
        "#exibe uma linha especifica de acordo com o indice indicado\n",
        "data[-1]"
      ],
      "metadata": {
        "colab": {
          "base_uri": "https://localhost:8080/"
        },
        "id": "Cn3FNQsw3J3r",
        "outputId": "29e71a23-89c9-4fbe-fbe7-3212f08b3643"
      },
      "execution_count": 12,
      "outputs": [
        {
          "output_type": "execute_result",
          "data": {
            "text/plain": [
              "{'palavra': 'oauth',\n",
              " 'dica': 'implementar autenticação e autorização em aplicativos.'}"
            ]
          },
          "metadata": {},
          "execution_count": 12
        }
      ]
    },
    {
      "cell_type": "code",
      "source": [
        "#biblioteca para criar aleatoridade\n",
        "import random\n",
        "#variavel valor_secreto armazena uma tecnologia aleatoria da lista\n",
        "valor_secreto = random.choice(data)\n",
        "#variavel armazena apenas a palvra\n",
        "palavra_secreta = valor_secreto['palavra']\n",
        "#variavel armazena apenas a dia\n",
        "dica = valor_secreto['dica']\n",
        "#mostra quantas letras a palavra tem e a dica\n",
        "# f'xxx {}' concatena texto e variavel\n",
        "print(f'A palavra secreta tem {len(palavra_secreta)} letras')\n",
        "print(f'A dica é -> {dica}')\n",
        "#receber o palpite da tecnologia\n",
        "chute = input('O que você acha que é ')\n",
        "if chute == palavra_secreta:\n",
        "  print('Acertou')\n",
        "else:\n",
        "    print(f'Errou. A palavra é {palavra_secreta}')"
      ],
      "metadata": {
        "colab": {
          "base_uri": "https://localhost:8080/"
        },
        "id": "rjCh7kxa4m1N",
        "outputId": "720dd5ee-aad3-4b47-d46f-d49c186100bb"
      },
      "execution_count": 25,
      "outputs": [
        {
          "output_type": "stream",
          "name": "stdout",
          "text": [
            "A palavra secreta tem 5 letras\n",
            "A dica é -> desenvolver aplicativos para dispositivos apple, como iphone e ipad.\n",
            "O que você acha que é ios\n",
            "Errou. A palavra é swift\n"
          ]
        }
      ]
    },
    {
      "cell_type": "code",
      "source": [],
      "metadata": {
        "id": "XQGfkkrP5pZk"
      },
      "execution_count": null,
      "outputs": []
    }
  ]
}